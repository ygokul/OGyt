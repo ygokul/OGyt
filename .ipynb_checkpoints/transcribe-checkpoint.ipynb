{
 "cells": [
  {
   "cell_type": "markdown",
   "id": "d2f80570-148b-45ba-a395-532721353985",
   "metadata": {},
   "source": [
    "#audio xtration"
   ]
  },
  {
   "cell_type": "code",
   "execution_count": 9,
   "id": "a8b2276e-519d-463b-b29a-713013e18164",
   "metadata": {},
   "outputs": [
    {
     "name": "stdout",
     "output_type": "stream",
     "text": [
      "[youtube] Extracting URL: https://www.youtube.com/watch?v=2p_Ks1ErH78\n",
      "[youtube] 2p_Ks1ErH78: Downloading webpage\n",
      "[youtube] 2p_Ks1ErH78: Downloading ios player API JSON\n",
      "[youtube] 2p_Ks1ErH78: Downloading mweb player API JSON\n",
      "[youtube] 2p_Ks1ErH78: Downloading m3u8 information\n",
      "[info] 2p_Ks1ErH78: Downloading 1 format(s): 251\n",
      "[download] Destination: D:\\yt\\audio.wav\n",
      "[download] 100% of    9.43MiB in 00:00:52 at 183.08KiB/s \n",
      "[ExtractAudio] Destination: D:\\yt\\audio.wav.wav\n",
      "Deleting original file D:\\yt\\audio.wav (pass -k to keep)\n"
     ]
    }
   ],
   "source": [
    "import yt_dlp\n",
    "import os\n",
    "\n",
    "def download_audio(url, output_path='audio.wav'):\n",
    "    # Ensures the file can be overwritten if it already exists\n",
    "    if os.path.exists(output_path):\n",
    "        os.remove(output_path)\n",
    "\n",
    "    ydl_opts = {\n",
    "        'format': 'bestaudio/best',\n",
    "        'outtmpl': output_path,  # Use the specified output path\n",
    "        'postprocessors': [{\n",
    "            'key': 'FFmpegExtractAudio',\n",
    "            'preferredcodec': 'wav',\n",
    "            'preferredquality': '192',\n",
    "        }],\n",
    "    }\n",
    "    \n",
    "    with yt_dlp.YoutubeDL(ydl_opts) as ydl:\n",
    "        ydl.download([url])\n",
    "\n",
    "# Replace with your URL and custom output path\n",
    "download_audio('https://www.youtube.com/watch?v=2p_Ks1ErH78', 'D:/yt/audio.wav')\n"
   ]
  },
  {
   "cell_type": "code",
   "execution_count": 9,
   "id": "556bbdf6-a260-4d1a-a2d7-1f1e9dbfc7ff",
   "metadata": {},
   "outputs": [
    {
     "name": "stdout",
     "output_type": "stream",
     "text": [
      "Hello, I'm Denshi and in today's video I'm going to be showing you how to use FFMPEG with some basic examples. So I'll just get rid of a bunch of files here real quick and just pretend I only have one file here, Outro MP4. Now if I double click on this and I play it back, you'll notice just the outro from all my videos. And yeah, that's what I use as my outro. Let's say I want to convert it to an MKV, for example. Well, I have a program named FFmpeg and if you're running GNU Linux and you have a desktop environment installed, this is already on your system, including all the codecs that you're going to need to do all the conversions. So let's say I want to convert this file. So I'm going to do ffmpeg I outro. So I means input. And if I don't give it any other parameters and just press Enter, it will give me information on the file. So as you can see here, it tells me that stream 00 it's using the HEVC encoder, which is a modern functional encoder. U420P like pixel format, it's at 1920 by 1080. In terms of resolution it's at 60fps. And all of this stuff for audio it's using AAC, it's a 48,000Hz sample rate, stereo and 128 kilobytes per second as the bit rate. So yeah, all of that stuff. Now let's say I want to convert it to an MKV without any parameters. FFMPEG defaults to a bunch of stuff that it has pre built in it. I can just tell it to convert it to outro mk. So it might take a little bit of time because this is a 20 second long video. But eventually after I've done running this command, so outro mp4 outro mkv just specifying, I want it to go from this is my input to just this output. I get an output and if I double click and play this, you'll see it's. It's pretty much the same thing. Now what if I want to specify a different encoder? So this used H264 as the encoder because by default FFMPEG will try to use H264 when converting things to MKV. Let's say I want to use H265 or HEVC. I can do CV and specify lib x265 as my video codec. Same for audio. If I want to use AAC, for example, which is higher quality lossless audio, I can do dash C colon aac. I can give them more options. So for example, I want to scale the video. I can do dash s and like 1280 x 720. That's 720p, let's say I want to give it a rate. I'll keep this for now. In the meantime, before I talk about more options, I'm going to quickly run this and cancel it so I can have it saved. I'm going to talk about how to actually get the encoder list. So you saw me write out libx265. How do I know what all the encoders are? Well, if you want to see all the encoders, you do FFMPEG encoders and that will print them all out. If I want all of those to go to like a file, just do FFMPEG encoders and send them over to like, I don't know, encoders.txt. so there you go. And it will create encoders. TXT. You can look through these and there's all the encoders you can possibly use on a system. Now not all of these might work with your system. Maybe you don't have the hardware for some of these or your processors too old or maybe they're just not supporting off that certain things downloaded or something like that. But most of these should work. And the reason all of these are here is because video comes in many variations. So the one I use was. Let's see if I can spot it. Here we are. Lib X 265. So this is H 265, also known as HEVC H 264. This is the Nvidia version. But up here we got H264 vaapi. So that's the version for video accelerated stuff. And then somewhere up there, here we are, you'll find libx264. So that's h264. So that's the actual, you know, standard codec anyway. But this isn't what's important now. Let's go back to where we were before. I think I need to go. Wait a second, I need to open up the main toolbar and not main toolbar, sorry, settings, show tabs. Go back to the previous file. I was in this one. Anyway, so back to what I was talking about before. Let's say I want to take. I Don't know. Let's just delete this file. Let's say I want to take outro that MP4 and convert it with what I was doing before this. I want to use AAC as my audio codec, x265 as my video codec. Basically the best ones out there, pretty much. And I want the resolution to be 720p. Let's say I want to change the audio rate. So rate colon A. And I give it something like 44,100, a common audio rate. Just give it. Give it a couple of spaces so things are a little bit more evenly formatted here. Spaces don't matter. Let's say I want to change the video bit rate. B v 1 megabyte at most it can reach 1 megabyte per second. Pro most likely won't. But if I really want to. Or let's say I want the audio bitrate to be something I can do B A and bitrate audio and set it to 192 kilobytes per second or kilohertz. No, not kilohertz, kilobytes per second. Now, setting video like bit rates is pretty pointless when you're using something like X265 or H264, all that stuff, because there's already an inbuilt utility for. It's called crf and it's much better. It's very varying the bitrate based off a number you give it. So the lower the number is, the better the quality will be, but the bigger the fall is. So let's say I want it to be 24. 24 is a good number. I. Most of my videos are, you know, 20. I set the CRF rate to 24 when I compress them, including this one. It's 24. And you'd know. As you can see, it looks pretty good if you need higher quality, 20. But like, it's pretty indistinguishable, like a little bit maybe with more noisy video. But, you know, for most video it's perfectly fine. Anyway, moving on. Let's say I want to change the duration as well of this video. I can do dash SS to declare when I want it to start. I wanted to start at, well, zero hours, zero minutes, zero seconds and zero milliseconds. Let's say I want it to end so dash T at zero hours, zero minutes and 05 seconds and zero milliseconds. I can also. That's pretty much it. No. So I'm gonna do outro mp4. I'm gonna use x265. I'm gonna set my codec to AAC for audio. I'm going to scale it down to 720p, change the audio bitrate to 44,100, use CRF24, so, you know, pretty good quality for H265 and stuff. Set my bitrate of audio to 192 kilobytes per second. Start the video at 00, just the beginning of the video, and ended at 5 seconds. So let's press Enter and let it work. Since it only had to do five seconds, it was relatively quick. And if we play this back, as you can see, it lasts five seconds. It's in 720p and everything's been applied. So FFMPEG is a really powerful tool when you want to mass convert files because you can just write a script and mass convert every single MP4 file to a different format or every single MP4 file, compress it to something else or something like that. Let's say I want to take this outro mp4 file and turn it into audio. Well, that's the same concept. I outro do four. If I want to specify a specific audio codec. I said, I don't know, lib opus or something, but I'm just going to say outro wav. Let's just turn it into wav. Instantly. Done. There you go. Auto wov. Double click that and as you can see, it plays back because I've converted it to audio. And here, right before I end this video, because I've talked about all the main options, let's do a fun little experiment. Let's transform this outrav and this image into a video. So I'm going to take outra wav and essentially mix it with this image. So I'm going to do ffmpeg-I outro.wav and then-I image PNG and I'm going to specify a specific codec. So let's say I want lib x265 relatively good. The CRF I don't know, 2020, 20 is pretty good in terms of quality. Images are a little bit messed up when it comes to this kind of stuff. And let's say I want something like audio codecs. Okay, I might want to specify a bit rate for audio, though. So I'm gonna do B A and set it to 192 kilohertz. So let's press enter on this. And oh, yeah, I forgot to set an output file. So wait a second, I'm going to specify, I want it to be outro image mp4, press enter and just let it convert. There you go, it's already done. Double click on this and as you can see, it's the image with the audio. It's just, you know, the image playing back in it and it has the audio from Outro wov, which is just, you know, just the raw 20 second audio and it mixes it with this image. So if you ever wanted to just have a still image and you talking, you can make that pretty easily. And the file itself is negligible in terms of size. It's minuscule to 489 kilobytes. So if you ever need to make a video where it's just like an image and that's all, you can do that pretty easily with this. So anyway, thanks for watching my video on how to use, you know, FFMPEG with some basic options. I'll have all a bunch of examples in the description if you want to take a look at them. I'll just have this entire thing in the description actually. And yeah, FFmpeg is a really useful tool. I recommend if you're into video stuff, you learn how to use it. The best encoders for video are at the moment lib x265 best encoder for audio is AAC because high quality x265 is, you know, as long as you set your CRF rate appropriately, it's gonna be perfectly fine. In terms of quality might be a little slow because processors and stuff, if you need to deal with something like Nvidia encoding, you can do obviously. What was it called? Nvenc hevc. That's another codec you can use. But it's, it's or actually I think it's HEVC underscore nvenc and it's, it's fast but it isn't as precise because GPUs aren't like perfect like processors when it comes to video. And the file sizes will be larger and it won't be as, you know, good. It won't be as high quality video. But yeah, that's pretty much it. Thanks for watching my video. Goodbye.\n"
     ]
    }
   ],
   "source": [
    "#pip install assemblyai\n",
    "import assemblyai as aai\n",
    "aai.settings.api_key = \"8ded3e61ee47493b8d2bcc093ca1bf67\"\n",
    "transcriber = aai.Transcriber()\n",
    "transcript = transcriber.transcribe(r\"D:\\yt\\audio.wav.wav\")\n",
    "\n",
    "print(transcript.text)"
   ]
  },
  {
   "cell_type": "code",
   "execution_count": 11,
   "id": "495691f9-61fe-448d-a672-dac23889487c",
   "metadata": {},
   "outputs": [],
   "source": [
    "import assemblyai as aai\n",
    "import json\n",
    "\n",
    "# Set your AssemblyAI API key\n",
    "aai.settings.api_key = \"8ded3e61ee47493b8d2bcc093ca1bf67\"\n",
    "transcriber = aai.Transcriber()\n",
    "\n",
    "# Transcribe the audio file\n",
    "transcript = transcriber.transcribe(r\"D:\\yt\\audio.wav.wav\")\n",
    "\n",
    "# Store the transcription text in a JSON file\n",
    "output = {\"transcription\": transcript.text}\n",
    "\n",
    "with open(\"transcription_result.json\", \"w\") as json_file:\n",
    "    json.dump(output, json_file, indent=4)  # indent for pretty printing\n",
    "print(\"Transcription saved to transcription_result.json\")"
   ]
  }
 ],
 "metadata": {
  "kernelspec": {
   "display_name": "Python 3 (ipykernel)",
   "language": "python",
   "name": "python3"
  },
  "language_info": {
   "codemirror_mode": {
    "name": "ipython",
    "version": 3
   },
   "file_extension": ".py",
   "mimetype": "text/x-python",
   "name": "python",
   "nbconvert_exporter": "python",
   "pygments_lexer": "ipython3",
   "version": "3.10.15"
  }
 },
 "nbformat": 4,
 "nbformat_minor": 5
}
