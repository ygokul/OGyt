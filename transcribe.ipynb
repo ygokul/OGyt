{
 "cells": [
  {
   "cell_type": "markdown",
   "id": "d2f80570-148b-45ba-a395-532721353985",
   "metadata": {},
   "source": [
    "#audio xtration"
   ]
  },
  {
   "cell_type": "code",
   "execution_count": 15,
   "id": "a8b2276e-519d-463b-b29a-713013e18164",
   "metadata": {},
   "outputs": [
    {
     "name": "stdout",
     "output_type": "stream",
     "text": [
      "[youtube] Extracting URL: https://www.youtube.com/shorts/REzRlWiN3UY\n",
      "[youtube] REzRlWiN3UY: Downloading webpage\n",
      "[youtube] REzRlWiN3UY: Downloading ios player API JSON\n",
      "[youtube] REzRlWiN3UY: Downloading mweb player API JSON\n",
      "[youtube] REzRlWiN3UY: Downloading m3u8 information\n",
      "[info] REzRlWiN3UY: Downloading 1 format(s): 251\n",
      "[download] Destination: audio.wav\n",
      "[download] 100% of  838.41KiB in 00:00:00 at 1.35MiB/s   \n",
      "[ExtractAudio] Destination: audio.wav.wav\n",
      "Deleting original file audio.wav (pass -k to keep)\n"
     ]
    }
   ],
   "source": [
    "import yt_dlp\n",
    "import os\n",
    "\n",
    "def download_audio(url, output_path='audio.wav'):\n",
    "    # Ensures the file can be overwritten if it already exists\n",
    "    if os.path.exists(output_path):\n",
    "        os.remove(output_path)\n",
    "\n",
    "    ydl_opts = {\n",
    "        'format': 'bestaudio/best',\n",
    "        'outtmpl': output_path,  # Use the specified output path\n",
    "        'postprocessors': [{\n",
    "            'key': 'FFmpegExtractAudio',\n",
    "            'preferredcodec': 'wav',\n",
    "            'preferredquality': '192',\n",
    "        }],\n",
    "    }\n",
    "    \n",
    "    with yt_dlp.YoutubeDL(ydl_opts) as ydl:\n",
    "        ydl.download([url])\n",
    "\n",
    "# Get YouTube URL from the user\n",
    "user_url = input(\"Please enter the YouTube video URL: \")\n",
    "# Optional: specify a custom output path or leave it as the default\n",
    "output_path = input(\"Enter the output file path (default is 'audio.wav'): \") or 'audio.wav'\n",
    "\n",
    "# Download audio using the provided URL and output path\n",
    "download_audio(user_url, output_path)\n"
   ]
  },
  {
   "cell_type": "code",
   "execution_count": 8,
   "id": "556bbdf6-a260-4d1a-a2d7-1f1e9dbfc7ff",
   "metadata": {},
   "outputs": [
    {
     "name": "stdout",
     "output_type": "stream",
     "text": [
      "For every buggy fix you get $20. Two minutes. Let's go. All right. Make all test pass return whether the number exists in the list. I'm just gonna run it. Okay. Oh, oh, what is, what is the semicolon over here? Semicolon. All right. It has $20. 20. Woo. Okay. Okay. And now I'm gonna do. Oh, if this is two easy, this is too. That's another 20. All right. Printing is the way to go. One minute. One minute. Numbers I. I feel like if you want numbers I equals N, that's another 20. 30 seconds. 30 seconds. The opposite. I don't think that's right. But you know, I'm on a time crunch so I'm not really thinking much. Let's see, let's see if that's right. Oh, okay. All right. That's another 20. There's one more. I'll give you a hand. Line six looks really hard for I. In range. 5, 4, 3, 2. Ah, she got it. That's another 20. Wow. $100. Where should people practice these problems cure learning. Let's go.\n"
     ]
    }
   ],
   "source": [
    "#pip install assemblyai\n",
    "import assemblyai as aai\n",
    "aai.settings.api_key = \"8ded3e61ee47493b8d2bcc093ca1bf67\"\n",
    "transcriber = aai.Transcriber()\n",
    "transcript = transcriber.transcribe(r\"D:\\yt\\audio.wav.wav\")\n",
    "\n",
    "print(transcript.text)"
   ]
  },
  {
   "cell_type": "code",
   "execution_count": 9,
   "id": "9680d0b4",
   "metadata": {},
   "outputs": [
    {
     "name": "stdout",
     "output_type": "stream",
     "text": [
      "For every buggy fix you get $20. Two minutes. Let's go. All right. Make all test pass return whether the number exists in the list. I'm just gonna run it. Okay. Oh, oh, what is, what is the semicolon over here? Semicolon. All right. It has $20. 20. Woo. Okay. Okay. And now I'm gonna do. Oh, if this is two easy, this is too. That's another 20. All right. Printing is the way to go. One minute. One minute. Numbers I. I feel like if you want numbers I equals N, that's another 20. 30 seconds. 30 seconds. The opposite. I don't think that's right. But you know, I'm on a time crunch so I'm not really thinking much. Let's see, let's see if that's right. Oh, okay. All right. That's another 20. There's one more. I'll give you a hand. Line six looks really hard for I. In range. 5, 4, 3, 2. Ah, she got it. That's another 20. Wow. $100. Where should people practice these problems cure learning. Let's go.\n"
     ]
    }
   ],
   "source": [
    "print(transcript.text)"
   ]
  },
  {
   "cell_type": "code",
   "execution_count": 14,
   "id": "85d7f464",
   "metadata": {},
   "outputs": [
    {
     "name": "stdout",
     "output_type": "stream",
     "text": [
      "Available languages:\n",
      "- Tamil\n",
      "- Hindi\n",
      "- French\n",
      "- Spanish\n",
      "- German\n",
      "- Chinese\n",
      "- Japanese\n",
      "Translated Text: ஒவ்வொரு பிழை திருத்தத்திற்கும் நீங்கள் $ 20 பெறுவீர்கள். இரண்டு நிமிடங்கள். போகலாம். சரி. பட்டியலில் எண் உள்ளதா என்பதை அனைத்து டெஸ்ட் பாஸ் ரிட்டர்ன் செய்யவும். நான் அதை இயக்கப் போகிறேன். சரி. ஓ, ஓ, என்ன, இங்கே செமிகோலன் என்றால் என்ன? செமிகோலன். சரி. இதன் விலை $ 20. 20. வூ. சரி. சரி. இப்போது நான் செய்யப் போகிறேன். ஆ, இது இரண்டு எளிதானதாக இருந்தால், இதுவும் கூட. அது மற்றொரு 20 ஆகும். சரி, அச்சிடுவதுதான் செல்ல வேண்டிய வழி. ஒரு நிமிடம். ஒரு நிமிடம். எண்கள் I. நான் N க்கு சமமான எண்களை நீங்கள் விரும்பினால், அது மற்றொரு 20. 30 வினாடிகள். 30 விநாடிகள். எதிர். அது சரி என்று நான் நினைக்கவில்லை. ஆனால் உங்களுக்குத் தெரியும், நான் ஒரு நேர நெருக்கடியில் இருக்கிறேன், எனவே நான் உண்மையில் அதிகம் சிந்திக்கவில்லை. பார்ப்போம், அது சரியா என்று பார்ப்போம். ஓ, சரி. சரி. அது மற்றொரு 20 ஆகும். இன்னும் ஒன்று உள்ளது. நான் உங்களுக்கு ஒரு கை கொடுப்பேன். வரி ஆறு I க்கு மிகவும் கடினமாகத் தெரிகிறது. வரம்பில். 5, 4, 3, 2. ஆ, அவள் அதைப் பெற்றாள். அது மற்றொரு 20 ஆகும். ஆஹா. $ 100. இந்த சிக்கல்களை மக்கள் எங்கு பயிற்சி செய்ய வேண்டும்? கற்றலைக் குணப்படுத்துங்கள். போகலாம். \n"
     ]
    }
   ],
   "source": [
    "from translate import Translator\n",
    "from gtts import gTTS\n",
    "import os\n",
    "import platform\n",
    "import textwrap\n",
    "\n",
    "# Define available languages with codes\n",
    "available_languages = {\n",
    "    'Tamil': 'ta',\n",
    "    'Hindi': 'hi',\n",
    "    'French': 'fr',\n",
    "    'Spanish': 'es',\n",
    "    'German': 'de',\n",
    "    'Chinese': 'zh-CN',\n",
    "    'Japanese': 'ja'\n",
    "}\n",
    "\n",
    "def translate_text_to_audio(text, target_lang):\n",
    "    # Step 1: Split text into smaller chunks\n",
    "    chunk_size = 500  # Limit of characters per request\n",
    "    chunks = textwrap.wrap(text, chunk_size)\n",
    "    translated_text = \"\"\n",
    "\n",
    "    # Step 2: Translate each chunk and combine results\n",
    "    translator = Translator(to_lang=target_lang)\n",
    "    for chunk in chunks:\n",
    "        translated_chunk = translator.translate(chunk)\n",
    "        translated_text += translated_chunk + \" \"\n",
    "    \n",
    "    # Step 3: Convert the translated text to speech\n",
    "    tts = gTTS(text=translated_text, lang=target_lang)\n",
    "    audio_file = f\"translated_audio_{target_lang}.mp3\"\n",
    "    tts.save(audio_file)\n",
    "    \n",
    "    # Print the translated text for reference\n",
    "    print(\"Translated Text:\", translated_text)\n",
    "    \n",
    "    # Step 4: Play the audio based on the operating system\n",
    "    if platform.system() == \"Windows\":\n",
    "        os.system(f\"start {audio_file}\")\n",
    "    elif platform.system() == \"Darwin\":  # macOS\n",
    "        os.system(f\"afplay {audio_file}\")\n",
    "    else:  # Linux\n",
    "        os.system(f\"mpg321 {audio_file}\")\n",
    "\n",
    "# Example usage\n",
    "english_text = transcript.text  # Replace with transcript.text or any English text\n",
    "\n",
    "# Prompt user to select a language\n",
    "print(\"Available languages:\")\n",
    "for lang_name in available_languages:\n",
    "    print(f\"- {lang_name}\")\n",
    "\n",
    "selected_lang_name = input(\"Please enter your target language: \")\n",
    "target_lang = available_languages.get(selected_lang_name.capitalize())\n",
    "\n",
    "if target_lang:\n",
    "    translate_text_to_audio(english_text, target_lang)\n",
    "else:\n",
    "    print(\"Invalid language selection.\")\n"
   ]
  },
  {
   "cell_type": "code",
   "execution_count": 2,
   "id": "9ee9b9fc",
   "metadata": {},
   "outputs": [
    {
     "name": "stdout",
     "output_type": "stream",
     "text": [
      "[youtube] Extracting URL: https://www.youtube.com/shorts/REzRlWiN3UY\n",
      "[youtube] REzRlWiN3UY: Downloading webpage\n",
      "[youtube] REzRlWiN3UY: Downloading ios player API JSON\n",
      "[youtube] REzRlWiN3UY: Downloading mweb player API JSON\n",
      "[youtube] REzRlWiN3UY: Downloading m3u8 information\n",
      "[info] REzRlWiN3UY: Downloading 1 format(s): 251\n",
      "[download] Destination: gokul.wav\n",
      "[download] 100% of  838.41KiB in 00:00:00 at 1.48MiB/s   \n",
      "[ExtractAudio] Destination: gokul.wav.wav\n",
      "Deleting original file gokul.wav (pass -k to keep)\n",
      "Audio downloaded successfully.\n"
     ]
    },
    {
     "ename": "FileNotFoundError",
     "evalue": "[Errno 2] No such file or directory: 'gokul.wav'",
     "output_type": "error",
     "traceback": [
      "\u001b[1;31m---------------------------------------------------------------------------\u001b[0m",
      "\u001b[1;31mFileNotFoundError\u001b[0m                         Traceback (most recent call last)",
      "Cell \u001b[1;32mIn[2], line 47\u001b[0m\n\u001b[0;32m     44\u001b[0m \u001b[38;5;28mprint\u001b[39m(\u001b[38;5;124m\"\u001b[39m\u001b[38;5;124mAudio downloaded successfully.\u001b[39m\u001b[38;5;124m\"\u001b[39m)\n\u001b[0;32m     46\u001b[0m \u001b[38;5;66;03m# Step 3: Transcribe the downloaded audio to text\u001b[39;00m\n\u001b[1;32m---> 47\u001b[0m transcribed_text \u001b[38;5;241m=\u001b[39m \u001b[43mtranscribe_audio\u001b[49m\u001b[43m(\u001b[49m\u001b[43moutput_path\u001b[49m\u001b[43m)\u001b[49m\n\u001b[0;32m     48\u001b[0m \u001b[38;5;28mprint\u001b[39m(\u001b[38;5;124m\"\u001b[39m\u001b[38;5;124mTranscription completed. Here is the text:\u001b[39m\u001b[38;5;124m\"\u001b[39m)\n\u001b[0;32m     49\u001b[0m \u001b[38;5;28mprint\u001b[39m(transcribed_text)\n",
      "Cell \u001b[1;32mIn[2], line 34\u001b[0m, in \u001b[0;36mtranscribe_audio\u001b[1;34m(file_path)\u001b[0m\n\u001b[0;32m     32\u001b[0m \u001b[38;5;28;01mdef\u001b[39;00m \u001b[38;5;21mtranscribe_audio\u001b[39m(file_path):\n\u001b[0;32m     33\u001b[0m     transcriber \u001b[38;5;241m=\u001b[39m aai\u001b[38;5;241m.\u001b[39mTranscriber()\n\u001b[1;32m---> 34\u001b[0m     transcript \u001b[38;5;241m=\u001b[39m \u001b[43mtranscriber\u001b[49m\u001b[38;5;241;43m.\u001b[39;49m\u001b[43mtranscribe\u001b[49m\u001b[43m(\u001b[49m\u001b[43mfile_path\u001b[49m\u001b[43m)\u001b[49m\n\u001b[0;32m     35\u001b[0m     \u001b[38;5;28;01mreturn\u001b[39;00m transcript\u001b[38;5;241m.\u001b[39mtext\n",
      "File \u001b[1;32mc:\\Users\\ygoku\\.conda\\envs\\py310\\lib\\site-packages\\assemblyai\\transcriber.py:1003\u001b[0m, in \u001b[0;36mTranscriber.transcribe\u001b[1;34m(self, data, config)\u001b[0m\n\u001b[0;32m    989\u001b[0m \u001b[38;5;28;01mdef\u001b[39;00m \u001b[38;5;21mtranscribe\u001b[39m(\n\u001b[0;32m    990\u001b[0m     \u001b[38;5;28mself\u001b[39m,\n\u001b[0;32m    991\u001b[0m     data: Union[\u001b[38;5;28mstr\u001b[39m, BinaryIO],\n\u001b[0;32m    992\u001b[0m     config: Optional[types\u001b[38;5;241m.\u001b[39mTranscriptionConfig] \u001b[38;5;241m=\u001b[39m \u001b[38;5;28;01mNone\u001b[39;00m,\n\u001b[0;32m    993\u001b[0m ) \u001b[38;5;241m-\u001b[39m\u001b[38;5;241m>\u001b[39m Transcript:\n\u001b[0;32m    994\u001b[0m \u001b[38;5;250m    \u001b[39m\u001b[38;5;124;03m\"\"\"\u001b[39;00m\n\u001b[0;32m    995\u001b[0m \u001b[38;5;124;03m    Transcribes an audio file which can be specified as local path, URL, or binary object.\u001b[39;00m\n\u001b[0;32m    996\u001b[0m \n\u001b[1;32m   (...)\u001b[0m\n\u001b[0;32m   1000\u001b[0m \u001b[38;5;124;03m            default configuration will be used.\u001b[39;00m\n\u001b[0;32m   1001\u001b[0m \u001b[38;5;124;03m    \"\"\"\u001b[39;00m\n\u001b[1;32m-> 1003\u001b[0m     \u001b[38;5;28;01mreturn\u001b[39;00m \u001b[38;5;28;43mself\u001b[39;49m\u001b[38;5;241;43m.\u001b[39;49m\u001b[43m_impl\u001b[49m\u001b[38;5;241;43m.\u001b[39;49m\u001b[43mtranscribe\u001b[49m\u001b[43m(\u001b[49m\n\u001b[0;32m   1004\u001b[0m \u001b[43m        \u001b[49m\u001b[43mdata\u001b[49m\u001b[38;5;241;43m=\u001b[39;49m\u001b[43mdata\u001b[49m\u001b[43m,\u001b[49m\n\u001b[0;32m   1005\u001b[0m \u001b[43m        \u001b[49m\u001b[43mconfig\u001b[49m\u001b[38;5;241;43m=\u001b[39;49m\u001b[43mconfig\u001b[49m\u001b[43m,\u001b[49m\n\u001b[0;32m   1006\u001b[0m \u001b[43m        \u001b[49m\u001b[43mpoll\u001b[49m\u001b[38;5;241;43m=\u001b[39;49m\u001b[38;5;28;43;01mTrue\u001b[39;49;00m\u001b[43m,\u001b[49m\n\u001b[0;32m   1007\u001b[0m \u001b[43m    \u001b[49m\u001b[43m)\u001b[49m\n",
      "File \u001b[1;32mc:\\Users\\ygoku\\.conda\\envs\\py310\\lib\\site-packages\\assemblyai\\transcriber.py:789\u001b[0m, in \u001b[0;36m_TranscriberImpl.transcribe\u001b[1;34m(self, data, config, poll)\u001b[0m\n\u001b[0;32m    782\u001b[0m \u001b[38;5;28;01mif\u001b[39;00m \u001b[38;5;28misinstance\u001b[39m(data, \u001b[38;5;28mstr\u001b[39m) \u001b[38;5;129;01mand\u001b[39;00m urlparse(data)\u001b[38;5;241m.\u001b[39mscheme \u001b[38;5;129;01min\u001b[39;00m {\u001b[38;5;124m\"\u001b[39m\u001b[38;5;124mhttp\u001b[39m\u001b[38;5;124m\"\u001b[39m, \u001b[38;5;124m\"\u001b[39m\u001b[38;5;124mhttps\u001b[39m\u001b[38;5;124m\"\u001b[39m}:\n\u001b[0;32m    783\u001b[0m     \u001b[38;5;28;01mreturn\u001b[39;00m \u001b[38;5;28mself\u001b[39m\u001b[38;5;241m.\u001b[39mtranscribe_url(\n\u001b[0;32m    784\u001b[0m         url\u001b[38;5;241m=\u001b[39mdata,\n\u001b[0;32m    785\u001b[0m         config\u001b[38;5;241m=\u001b[39mconfig,\n\u001b[0;32m    786\u001b[0m         poll\u001b[38;5;241m=\u001b[39mpoll,\n\u001b[0;32m    787\u001b[0m     )\n\u001b[1;32m--> 789\u001b[0m \u001b[38;5;28;01mreturn\u001b[39;00m \u001b[38;5;28;43mself\u001b[39;49m\u001b[38;5;241;43m.\u001b[39;49m\u001b[43mtranscribe_file\u001b[49m\u001b[43m(\u001b[49m\n\u001b[0;32m    790\u001b[0m \u001b[43m    \u001b[49m\u001b[43mdata\u001b[49m\u001b[38;5;241;43m=\u001b[39;49m\u001b[43mdata\u001b[49m\u001b[43m,\u001b[49m\n\u001b[0;32m    791\u001b[0m \u001b[43m    \u001b[49m\u001b[43mconfig\u001b[49m\u001b[38;5;241;43m=\u001b[39;49m\u001b[43mconfig\u001b[49m\u001b[43m,\u001b[49m\n\u001b[0;32m    792\u001b[0m \u001b[43m    \u001b[49m\u001b[43mpoll\u001b[49m\u001b[38;5;241;43m=\u001b[39;49m\u001b[43mpoll\u001b[49m\u001b[43m,\u001b[49m\n\u001b[0;32m    793\u001b[0m \u001b[43m\u001b[49m\u001b[43m)\u001b[49m\n",
      "File \u001b[1;32mc:\\Users\\ygoku\\.conda\\envs\\py310\\lib\\site-packages\\assemblyai\\transcriber.py:765\u001b[0m, in \u001b[0;36m_TranscriberImpl.transcribe_file\u001b[1;34m(self, data, config, poll)\u001b[0m\n\u001b[0;32m    757\u001b[0m \u001b[38;5;28;01mdef\u001b[39;00m \u001b[38;5;21mtranscribe_file\u001b[39m(\n\u001b[0;32m    758\u001b[0m     \u001b[38;5;28mself\u001b[39m,\n\u001b[0;32m    759\u001b[0m     \u001b[38;5;241m*\u001b[39m,\n\u001b[1;32m   (...)\u001b[0m\n\u001b[0;32m    763\u001b[0m ) \u001b[38;5;241m-\u001b[39m\u001b[38;5;241m>\u001b[39m Transcript:\n\u001b[0;32m    764\u001b[0m     \u001b[38;5;66;03m# Note: If uploading fails, it should raise an Exception to the user, hence no try-except here.\u001b[39;00m\n\u001b[1;32m--> 765\u001b[0m     audio_url \u001b[38;5;241m=\u001b[39m \u001b[38;5;28;43mself\u001b[39;49m\u001b[38;5;241;43m.\u001b[39;49m\u001b[43mupload_file\u001b[49m\u001b[43m(\u001b[49m\u001b[43mdata\u001b[49m\u001b[43m)\u001b[49m\n\u001b[0;32m    767\u001b[0m     \u001b[38;5;28;01mreturn\u001b[39;00m \u001b[38;5;28mself\u001b[39m\u001b[38;5;241m.\u001b[39mtranscribe_url(\n\u001b[0;32m    768\u001b[0m         url\u001b[38;5;241m=\u001b[39maudio_url,\n\u001b[0;32m    769\u001b[0m         config\u001b[38;5;241m=\u001b[39mconfig,\n\u001b[0;32m    770\u001b[0m         poll\u001b[38;5;241m=\u001b[39mpoll,\n\u001b[0;32m    771\u001b[0m     )\n",
      "File \u001b[1;32mc:\\Users\\ygoku\\.conda\\envs\\py310\\lib\\site-packages\\assemblyai\\transcriber.py:721\u001b[0m, in \u001b[0;36m_TranscriberImpl.upload_file\u001b[1;34m(self, data)\u001b[0m\n\u001b[0;32m    719\u001b[0m \u001b[38;5;28;01mdef\u001b[39;00m \u001b[38;5;21mupload_file\u001b[39m(\u001b[38;5;28mself\u001b[39m, data: Union[\u001b[38;5;28mstr\u001b[39m, BinaryIO]) \u001b[38;5;241m-\u001b[39m\u001b[38;5;241m>\u001b[39m \u001b[38;5;28mstr\u001b[39m:\n\u001b[0;32m    720\u001b[0m     \u001b[38;5;28;01mif\u001b[39;00m \u001b[38;5;28misinstance\u001b[39m(data, \u001b[38;5;28mstr\u001b[39m):\n\u001b[1;32m--> 721\u001b[0m         \u001b[38;5;28;01mwith\u001b[39;00m \u001b[38;5;28;43mopen\u001b[39;49m\u001b[43m(\u001b[49m\u001b[43mdata\u001b[49m\u001b[43m,\u001b[49m\u001b[43m \u001b[49m\u001b[38;5;124;43m\"\u001b[39;49m\u001b[38;5;124;43mrb\u001b[39;49m\u001b[38;5;124;43m\"\u001b[39;49m\u001b[43m)\u001b[49m \u001b[38;5;28;01mas\u001b[39;00m audio_file:\n\u001b[0;32m    722\u001b[0m             \u001b[38;5;28;01mreturn\u001b[39;00m api\u001b[38;5;241m.\u001b[39mupload_file(\n\u001b[0;32m    723\u001b[0m                 client\u001b[38;5;241m=\u001b[39m\u001b[38;5;28mself\u001b[39m\u001b[38;5;241m.\u001b[39m_client\u001b[38;5;241m.\u001b[39mhttp_client,\n\u001b[0;32m    724\u001b[0m                 audio_file\u001b[38;5;241m=\u001b[39maudio_file,\n\u001b[0;32m    725\u001b[0m             )\n\u001b[0;32m    726\u001b[0m     \u001b[38;5;28;01melse\u001b[39;00m:\n",
      "\u001b[1;31mFileNotFoundError\u001b[0m: [Errno 2] No such file or directory: 'gokul.wav'"
     ]
    }
   ],
   "source": [
    "import yt_dlp\n",
    "import os\n",
    "import assemblyai as aai\n",
    "\n",
    "# Set your AssemblyAI API key\n",
    "aai.settings.api_key = \"YOUR_ASSEMBLYAI_API_KEY\"\n",
    "\n",
    "def download_audio(url, output_path='audio.wav'):\n",
    "    # Remove any extra .wav extensions, ensuring the output ends with a single .wav\n",
    "    if output_path.endswith('.wav'):\n",
    "        output_path = output_path[:output_path.rfind('.wav')] + '.wav'\n",
    "    else:\n",
    "        output_path += '.wav'  # Append .wav if not already present\n",
    "\n",
    "    # If the file exists, remove it to allow rewriting\n",
    "    if os.path.exists(output_path):\n",
    "        os.remove(output_path)\n",
    "\n",
    "    ydl_opts = {\n",
    "        'format': 'bestaudio/best',\n",
    "        'outtmpl': output_path,  # Ensure the output path ends with single .wav\n",
    "        'postprocessors': [{\n",
    "            'key': 'FFmpegExtractAudio',\n",
    "            'preferredcodec': 'wav',\n",
    "            'preferredquality': '192',\n",
    "        }],\n",
    "    }\n",
    "\n",
    "    with yt_dlp.YoutubeDL(ydl_opts) as ydl:\n",
    "        ydl.download([url])\n",
    "\n",
    "def transcribe_audio(file_path):\n",
    "    transcriber = aai.Transcriber()\n",
    "    transcript = transcriber.transcribe(file_path)\n",
    "    return transcript.text  # Returns the transcribed text\n",
    "\n",
    "# Step 1: Get YouTube URL from the user\n",
    "user_url = input(\"Please enter the YouTube video URL: \")\n",
    "# Optional: specify a custom output path or use the default 'audio.wav'\n",
    "output_path = input(\"Enter the output file path (default is 'audio.wav'): \") or 'audio.wav'\n",
    "\n",
    "# Step 2: Download audio from the provided YouTube URL\n",
    "download_audio(user_url, output_path)\n",
    "print(\"Audio downloaded successfully.\")\n",
    "\n",
    "# Step 3: Transcribe the downloaded audio to text\n",
    "transcribed_text = transcribe_audio(output_path)\n",
    "print(\"Transcription completed. Here is the text:\")\n",
    "print(transcribed_text)\n"
   ]
  }
 ],
 "metadata": {
  "kernelspec": {
   "display_name": "py310",
   "language": "python",
   "name": "python3"
  },
  "language_info": {
   "codemirror_mode": {
    "name": "ipython",
    "version": 3
   },
   "file_extension": ".py",
   "mimetype": "text/x-python",
   "name": "python",
   "nbconvert_exporter": "python",
   "pygments_lexer": "ipython3",
   "version": "3.10.15"
  }
 },
 "nbformat": 4,
 "nbformat_minor": 5
}
